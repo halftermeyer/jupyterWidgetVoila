{
 "cells": [
  {
   "cell_type": "markdown",
   "id": "4526884e",
   "metadata": {},
   "source": [
    "# My awesome dashboard"
   ]
  },
  {
   "cell_type": "code",
   "execution_count": 2,
   "id": "bd15d25c",
   "metadata": {},
   "outputs": [],
   "source": [
    "#! pip install ipywidget\n",
    "#! pip install voila\n",
    "import ipywidgets as widgets\n",
    "import matplotlib.pyplot as plt\n",
    "import numpy as np\n",
    "from neo4j import GraphDatabase\n",
    "uri = \"neo4j://localhost:7687\"\n",
    "driver = GraphDatabase.driver(uri, auth=(\"neo4j\", \"pierre\"))"
   ]
  },
  {
   "cell_type": "markdown",
   "id": "729d4701",
   "metadata": {},
   "source": [
    "## Test chart with slope"
   ]
  },
  {
   "cell_type": "code",
   "execution_count": 3,
   "id": "4f1a9c33",
   "metadata": {},
   "outputs": [],
   "source": [
    "def diplay_test_chart(slope):\n",
    "    # 100 linearly spaced numbers\n",
    "    x = np.linspace(-5,5,100)\n",
    "\n",
    "    # the function, which is y = x^2 here\n",
    "    y = x * slope\n",
    "\n",
    "    # setting the axes at the centre\n",
    "    fig = plt.figure()\n",
    "    ax = fig.add_subplot(1, 1, 1)\n",
    "    ax.spines['left'].set_position('center')\n",
    "    ax.spines['bottom'].set_position('zero')\n",
    "    ax.spines['right'].set_color('none')\n",
    "    ax.spines['top'].set_color('none')\n",
    "    ax.xaxis.set_ticks_position('bottom')\n",
    "    ax.yaxis.set_ticks_position('left')\n",
    "    ax.set_ylim([-20, +20])\n",
    "\n",
    "    # plot the function\n",
    "    plt.plot(x,y, 'r')\n",
    "\n",
    "    # show the plot\n",
    "    plt.show()\n",
    "    return None"
   ]
  },
  {
   "cell_type": "code",
   "execution_count": 4,
   "id": "170e0989",
   "metadata": {},
   "outputs": [
    {
     "data": {
      "application/vnd.jupyter.widget-view+json": {
       "model_id": "9abcda8188594db3aabbad3ac5fb8a00",
       "version_major": 2,
       "version_minor": 0
      },
      "text/plain": [
       "interactive(children=(IntSlider(value=3, description='slope', max=30, min=-10), Output()), _dom_classes=('widg…"
      ]
     },
     "metadata": {},
     "output_type": "display_data"
    }
   ],
   "source": [
    "slope_slide = widgets.IntSlider(min=-10, max=30, step=1, value=3)\n",
    "widgets.interact(diplay_test_chart, slope=slope_slide)\n",
    "None"
   ]
  },
  {
   "cell_type": "markdown",
   "id": "91073b99",
   "metadata": {},
   "source": [
    "## Test chart with query"
   ]
  },
  {
   "cell_type": "code",
   "execution_count": 5,
   "id": "980ce202",
   "metadata": {},
   "outputs": [],
   "source": [
    "query = \"\"\"MATCH (p:Person)-[r]->(m:Movie)\n",
    "WHERE type(r) = $rel_types AND p.born > 0\n",
    "RETURN p.born AS year , count(m) AS number\n",
    "ORDER BY year\"\"\""
   ]
  },
  {
   "cell_type": "code",
   "execution_count": 6,
   "id": "ce0c0ee5",
   "metadata": {},
   "outputs": [],
   "source": [
    "def display_person_movie_rels_by_year(rels):\n",
    "    x = []\n",
    "    y = []\n",
    "    with driver.session() as session:\n",
    "        result = session.run(query, rel_types = rels)\n",
    "        for record in result:\n",
    "            x.append(record[\"year\"])\n",
    "            y.append(record[\"number\"])\n",
    "    plt.scatter(x, y, c = 'red')"
   ]
  },
  {
   "cell_type": "code",
   "execution_count": 7,
   "id": "b7cc9f2d",
   "metadata": {},
   "outputs": [],
   "source": [
    "radio_rels = widgets.RadioButtons(options=[\"ACTED_IN\", \"PRODUCED\", \"WROTE\", \"DIRECTED\"],\n",
    "                     value=\"ACTED_IN\", description=\"Relations:\" )"
   ]
  },
  {
   "cell_type": "code",
   "execution_count": 8,
   "id": "ccf0a8a0",
   "metadata": {},
   "outputs": [
    {
     "data": {
      "application/vnd.jupyter.widget-view+json": {
       "model_id": "783c5b3092284ba2b959ed2450f0349b",
       "version_major": 2,
       "version_minor": 0
      },
      "text/plain": [
       "interactive(children=(RadioButtons(description='Relations:', options=('ACTED_IN', 'PRODUCED', 'WROTE', 'DIRECT…"
      ]
     },
     "metadata": {},
     "output_type": "display_data"
    }
   ],
   "source": [
    "widgets.interact(display_person_movie_rels_by_year, rels=radio_rels)\n",
    "None"
   ]
  },
  {
   "cell_type": "code",
   "execution_count": null,
   "id": "66ba317c",
   "metadata": {},
   "outputs": [],
   "source": []
  }
 ],
 "metadata": {
  "kernelspec": {
   "display_name": "Python 3",
   "language": "python",
   "name": "python3"
  },
  "language_info": {
   "codemirror_mode": {
    "name": "ipython",
    "version": 3
   },
   "file_extension": ".py",
   "mimetype": "text/x-python",
   "name": "python",
   "nbconvert_exporter": "python",
   "pygments_lexer": "ipython3",
   "version": "3.8.8"
  }
 },
 "nbformat": 4,
 "nbformat_minor": 5
}
